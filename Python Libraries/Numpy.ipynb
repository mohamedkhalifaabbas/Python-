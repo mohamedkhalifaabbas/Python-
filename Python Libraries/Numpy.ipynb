{
 "cells": [
  {
   "cell_type": "code",
   "execution_count": 1,
   "metadata": {},
   "outputs": [],
   "source": [
    "import numpy as np"
   ]
  },
  {
   "cell_type": "code",
   "execution_count": 2,
   "metadata": {},
   "outputs": [],
   "source": [
    "# Arthimatic opertions "
   ]
  },
  {
   "cell_type": "code",
   "execution_count": 3,
   "metadata": {},
   "outputs": [],
   "source": [
    "# sin , cos , tan\n",
    "#  (degree)وليس (radians)الدوال المثلثيةتتعامل بال \n",
    "\n",
    "# degree  >> 90   180 270 360\n",
    "# radians >>     "
   ]
  },
  {
   "cell_type": "code",
   "execution_count": 4,
   "metadata": {},
   "outputs": [
    {
     "name": "stdout",
     "output_type": "stream",
     "text": [
      "-0.9880316240928618 0.15425144988758405 -6.405331196646276\n"
     ]
    }
   ],
   "source": [
    "# radincs\n",
    "a = np.sin(30)\n",
    "b = np.cos(30)\n",
    "c = np.tan(30)\n",
    "print(a , b , c)"
   ]
  },
  {
   "cell_type": "code",
   "execution_count": 5,
   "metadata": {},
   "outputs": [
    {
     "name": "stdout",
     "output_type": "stream",
     "text": [
      "0.49999999999999994 0.8660254037844387 0.5773502691896257\n"
     ]
    }
   ],
   "source": [
    "# convert from radincs to degree \n",
    "a = np.sin(30 * np.pi/180)\n",
    "b = np.cos(30 * np.pi/180)\n",
    "c = np.tan(30 * np.pi/180)\n",
    "print(a , b , c)\n"
   ]
  },
  {
   "cell_type": "code",
   "execution_count": 6,
   "metadata": {},
   "outputs": [
    {
     "name": "stdout",
     "output_type": "stream",
     "text": [
      "0.49999999999999994 0.8660254037844387 0.5773502691896257\n"
     ]
    }
   ],
   "source": [
    "# convert from radincs to degree \n",
    "a = np.sin(np.deg2rad(30))\n",
    "b = np.cos(np.deg2rad(30))\n",
    "c = np.tan(np.deg2rad(30))\n",
    "print(a , b , c)\n"
   ]
  },
  {
   "cell_type": "code",
   "execution_count": 7,
   "metadata": {},
   "outputs": [
    {
     "name": "stdout",
     "output_type": "stream",
     "text": [
      "4.0 3.7 3.67 3.671\n"
     ]
    }
   ],
   "source": [
    "# round\n",
    " \n",
    "a = np.round(3.6711)\n",
    "b = np.round(3.6711 , 1)\n",
    "c = np.round(3.6711 , 2)\n",
    "d = np.round(3.6711 , 3)\n",
    "print(a ,b , c ,d)"
   ]
  },
  {
   "cell_type": "code",
   "execution_count": 8,
   "metadata": {},
   "outputs": [
    {
     "name": "stdout",
     "output_type": "stream",
     "text": [
      "3.0 4.0\n"
     ]
    }
   ],
   "source": [
    "# floor & ceil\n",
    "a = np.floor(3.658)\n",
    "b = np.ceil(3.658)\n",
    "\n",
    "print(a , b)"
   ]
  },
  {
   "cell_type": "code",
   "execution_count": 9,
   "metadata": {},
   "outputs": [
    {
     "name": "stdout",
     "output_type": "stream",
     "text": [
      "6\n"
     ]
    }
   ],
   "source": [
    "# mod \n",
    "\n",
    "a = np.mod(20 , 7)\n",
    "print(a)\n"
   ]
  },
  {
   "cell_type": "code",
   "execution_count": 10,
   "metadata": {},
   "outputs": [
    {
     "name": "stdout",
     "output_type": "stream",
     "text": [
      "32\n"
     ]
    }
   ],
   "source": [
    "# power \n",
    "a = np.power(2 , 5)\n",
    "print(a)"
   ]
  },
  {
   "cell_type": "code",
   "execution_count": 14,
   "metadata": {},
   "outputs": [
    {
     "name": "stdout",
     "output_type": "stream",
     "text": [
      "[2, 3, 4, 5, 6]\n",
      "[2 3 4 5 6]\n",
      "<class 'numpy.ndarray'>\n"
     ]
    }
   ],
   "source": [
    "# matrices \n",
    "\n",
    "l = [2 , 3,  4 , 5 , 6]\n",
    "m = np.array(l) \n",
    "print(l)\n",
    "print(m)\n",
    "print(type(m))"
   ]
  },
  {
   "cell_type": "code",
   "execution_count": 16,
   "metadata": {},
   "outputs": [
    {
     "name": "stdout",
     "output_type": "stream",
     "text": [
      "[[1 2 3]\n",
      " [5 3 6]\n",
      " [9 6 5]]\n"
     ]
    }
   ],
   "source": [
    "l = [[1,2,3] , [5 , 3 ,6 ] , [9 ,6 ,5]]\n",
    "m = np.array(l)\n",
    "print(m)"
   ]
  },
  {
   "cell_type": "code",
   "execution_count": 17,
   "metadata": {},
   "outputs": [
    {
     "name": "stdout",
     "output_type": "stream",
     "text": [
      "[[2 3 4]\n",
      " [4 5 6]\n",
      " [6 7 8]]\n"
     ]
    }
   ],
   "source": [
    "m = np.array([range(i ,i +3) for i in [2 ,4 ,6]])\n",
    "print(m) "
   ]
  },
  {
   "cell_type": "code",
   "execution_count": 18,
   "metadata": {},
   "outputs": [
    {
     "name": "stdout",
     "output_type": "stream",
     "text": [
      "[('x', 3, 4.) ('y', 6, 3.) ('z', 7, 3.)]\n"
     ]
    }
   ],
   "source": [
    "m = np.array([('x' , 3 , 4 ) , ('y' , 6 , 3) , ('z' , 7 ,3 )] , \n",
    "             dtype = [('name' , 'U5') , ('number' , 'i2') , ('value' , 'f4')] )\n",
    "print(m)"
   ]
  },
  {
   "cell_type": "code",
   "execution_count": 20,
   "metadata": {},
   "outputs": [
    {
     "name": "stdout",
     "output_type": "stream",
     "text": [
      "[[9.34577196e-307 9.34598246e-307 1.60218491e-306]\n",
      " [1.69119873e-306 1.24611673e-306 1.00136897e-307]]\n"
     ]
    }
   ],
   "source": [
    "m = np.empty((2 , 3))\n",
    "print(m)"
   ]
  },
  {
   "cell_type": "code",
   "execution_count": 21,
   "metadata": {},
   "outputs": [
    {
     "name": "stdout",
     "output_type": "stream",
     "text": [
      "1.605810014935139\n",
      "......................................\n",
      "[4.06578416 1.17718099 5.6073816  4.12706744 2.79776791 4.02946757\n",
      " 4.55919058 6.96180755 2.0695061  9.91885528 9.7363994  3.76817299\n",
      " 8.70059727 9.20654928 9.64963438 7.66692798 8.11154525 6.09843039\n",
      " 5.48823647 4.63771747]\n"
     ]
    }
   ],
   "source": [
    "a = np.random.uniform(1 , 10) # one num between 1 and 10 \n",
    "b = np.random.uniform(1 ,10, 20) # 20 num between 1 and 10 \n",
    "m = np.array(b)\n",
    "print(a) \n",
    "print(\"......................................\")\n",
    "print(m) "
   ]
  },
  {
   "cell_type": "code",
   "execution_count": 24,
   "metadata": {},
   "outputs": [
    {
     "name": "stdout",
     "output_type": "stream",
     "text": [
      "[[0.83820874 0.0680045  0.85659273]\n",
      " [0.77891568 0.05268442 0.82877847]]\n"
     ]
    }
   ],
   "source": [
    "m = np.random.random((2 , 3)) # matrices 2 x 3 have randoms values 0 : 1\n",
    "print(m)"
   ]
  },
  {
   "cell_type": "code",
   "execution_count": 25,
   "metadata": {},
   "outputs": [
    {
     "name": "stdout",
     "output_type": "stream",
     "text": [
      "[[6.72635575 8.01928116 0.99464442]\n",
      " [3.32110392 4.88882694 4.97378728]]\n"
     ]
    }
   ],
   "source": [
    "m = np.random.random((2 , 3)) * 10 # matrices 2 x 3 have randoms values 0 : 10\n",
    "print(m)"
   ]
  },
  {
   "cell_type": "code",
   "execution_count": 28,
   "metadata": {},
   "outputs": [
    {
     "name": "stdout",
     "output_type": "stream",
     "text": [
      "[-0.42042604  0.79956887 -0.27648907 -1.26500726 -0.42908545  0.66165184\n",
      "  1.61952887 -0.57077716 -0.32956564 -0.02802145]\n"
     ]
    }
   ],
   "source": [
    "m = np.random.normal(0 , 1 , 10)\n",
    "print(m) "
   ]
  },
  {
   "cell_type": "code",
   "execution_count": 29,
   "metadata": {},
   "outputs": [
    {
     "name": "stdout",
     "output_type": "stream",
     "text": [
      "130\n",
      "......................................\n",
      "[4 0 1 4 1 1 4]\n",
      "......................................\n",
      "[8 8 8 9 8 8 7]\n"
     ]
    }
   ],
   "source": [
    "a = np.random.randint(140)\n",
    "m = np.random.randint(5 , size=7)       # 7 randoms int nums   0 : 5 \n",
    "m2 = np.random.randint(5 ,10 , size=7)  # 7 randoms int nums   5 : 10 \n",
    "\n",
    "print(a)\n",
    "print(\"......................................\")\n",
    "print(m)\n",
    "print(\"......................................\")\n",
    "print(m2)\n"
   ]
  },
  {
   "cell_type": "code",
   "execution_count": 30,
   "metadata": {},
   "outputs": [
    {
     "name": "stdout",
     "output_type": "stream",
     "text": [
      "[[9 7]\n",
      " [8 9]\n",
      " [8 9]]\n"
     ]
    }
   ],
   "source": [
    "m = np.random.randint(5 ,10 , (3 , 2))\n",
    "print(m)"
   ]
  },
  {
   "cell_type": "code",
   "execution_count": 31,
   "metadata": {},
   "outputs": [
    {
     "name": "stdout",
     "output_type": "stream",
     "text": [
      "[[[5 6]\n",
      "  [9 6]]\n",
      "\n",
      " [[7 9]\n",
      "  [9 6]]\n",
      "\n",
      " [[9 9]\n",
      "  [8 9]]]\n"
     ]
    }
   ],
   "source": [
    "m = np.random.randint(5 ,10 , (3 , 2 , 2))\n",
    "print(m) "
   ]
  },
  {
   "cell_type": "code",
   "execution_count": 34,
   "metadata": {},
   "outputs": [
    {
     "name": "stdout",
     "output_type": "stream",
     "text": [
      "[[41 33  8 34  8]\n",
      " [30 43 38 26 30]\n",
      " [17 14 43  5  3]\n",
      " [28 37 21 31 24]\n",
      " [ 3 46  5 12 25]]\n"
     ]
    }
   ],
   "source": [
    "m = np.random.randint(1 ,50 , 25)\n",
    "m = np.reshape(m , (5 , 5))\n",
    "print(m)"
   ]
  },
  {
   "cell_type": "code",
   "execution_count": null,
   "metadata": {},
   "outputs": [],
   "source": []
  }
 ],
 "metadata": {
  "kernelspec": {
   "display_name": "Python 3",
   "language": "python",
   "name": "python3"
  },
  "language_info": {
   "codemirror_mode": {
    "name": "ipython",
    "version": 3
   },
   "file_extension": ".py",
   "mimetype": "text/x-python",
   "name": "python",
   "nbconvert_exporter": "python",
   "pygments_lexer": "ipython3",
   "version": "3.12.3"
  }
 },
 "nbformat": 4,
 "nbformat_minor": 2
}
