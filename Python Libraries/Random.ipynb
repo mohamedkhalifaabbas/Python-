{
 "cells": [
  {
   "cell_type": "code",
   "execution_count": 1,
   "metadata": {},
   "outputs": [],
   "source": [
    "import random as rn \n"
   ]
  },
  {
   "cell_type": "code",
   "execution_count": 10,
   "metadata": {},
   "outputs": [
    {
     "name": "stdout",
     "output_type": "stream",
     "text": [
      "0.355174252647966\n"
     ]
    }
   ],
   "source": [
    "# random()\n",
    "r_num = rn.random() # 0 : 1\n",
    "print(r_num) "
   ]
  },
  {
   "cell_type": "code",
   "execution_count": 3,
   "metadata": {},
   "outputs": [
    {
     "name": "stdout",
     "output_type": "stream",
     "text": [
      "8.447950135496626\n"
     ]
    }
   ],
   "source": [
    "r_num = rn.random() * 10 # 1 : 10\n",
    "print(r_num) "
   ]
  },
  {
   "cell_type": "code",
   "execution_count": 4,
   "metadata": {},
   "outputs": [
    {
     "name": "stdout",
     "output_type": "stream",
     "text": [
      "12.738116270097366\n"
     ]
    }
   ],
   "source": [
    "r_num = rn.random() * 100 # 10 : 100\n",
    "print(r_num) "
   ]
  },
  {
   "cell_type": "code",
   "execution_count": 14,
   "metadata": {},
   "outputs": [
    {
     "name": "stdout",
     "output_type": "stream",
     "text": [
      "20\n"
     ]
    }
   ],
   "source": [
    "# randint()\n",
    "r_num = rn.randint(1 , 20) \n",
    "print(r_num) "
   ]
  },
  {
   "cell_type": "code",
   "execution_count": 15,
   "metadata": {},
   "outputs": [
    {
     "name": "stdout",
     "output_type": "stream",
     "text": [
      "4.7582699315982735\n"
     ]
    }
   ],
   "source": [
    "# uniform()\n",
    "r_num = rn.uniform(4 , 6)\n",
    "print(r_num) "
   ]
  },
  {
   "cell_type": "code",
   "execution_count": 16,
   "metadata": {},
   "outputs": [
    {
     "name": "stdout",
     "output_type": "stream",
     "text": [
      "11\n"
     ]
    }
   ],
   "source": [
    "# randrange()\n",
    "r_num = rn.randrange(54) # int num from 0 to 54\n",
    "print(r_num) "
   ]
  },
  {
   "cell_type": "code",
   "execution_count": 21,
   "metadata": {},
   "outputs": [
    {
     "name": "stdout",
     "output_type": "stream",
     "text": [
      "6\n"
     ]
    }
   ],
   "source": [
    "# randrange()\n",
    "r_num = rn.randrange(0 , 20 , 2) # int num from 0 to 54 but sep by 2 (just even num)\n",
    "print(r_num) "
   ]
  },
  {
   "cell_type": "code",
   "execution_count": 22,
   "metadata": {},
   "outputs": [
    {
     "name": "stdout",
     "output_type": "stream",
     "text": [
      "c\n"
     ]
    }
   ],
   "source": [
    "# choise\n",
    "l = ['a' , 'b' , 'c']\n",
    "choise = rn.choice(l)\n",
    "print(choise)"
   ]
  },
  {
   "cell_type": "code",
   "execution_count": 25,
   "metadata": {},
   "outputs": [
    {
     "name": "stdout",
     "output_type": "stream",
     "text": [
      "a\n"
     ]
    }
   ],
   "source": [
    "st = \"mohamed khalifa\"\n",
    "choise = rn.choice(st)\n",
    "print(choise)"
   ]
  },
  {
   "cell_type": "code",
   "execution_count": 26,
   "metadata": {},
   "outputs": [
    {
     "name": "stdout",
     "output_type": "stream",
     "text": [
      "[78, 32, 181, 144, 114, 2, 163, 13, 185, 53]\n"
     ]
    }
   ],
   "source": [
    "# sample()\n",
    "res = rn.sample(range(200) , 10)\n",
    "print(res)"
   ]
  },
  {
   "cell_type": "code",
   "execution_count": 29,
   "metadata": {},
   "outputs": [
    {
     "name": "stdout",
     "output_type": "stream",
     "text": [
      "[2, 5, 6, 1, 4, 3]\n"
     ]
    }
   ],
   "source": [
    "# shuffle()\n",
    "l = [1 , 2 ,3 ,4 ,5 , 6]\n",
    "rn.shuffle(l)\n",
    "print(l)"
   ]
  },
  {
   "cell_type": "code",
   "execution_count": null,
   "metadata": {},
   "outputs": [],
   "source": []
  }
 ],
 "metadata": {
  "kernelspec": {
   "display_name": "Python 3",
   "language": "python",
   "name": "python3"
  },
  "language_info": {
   "codemirror_mode": {
    "name": "ipython",
    "version": 3
   },
   "file_extension": ".py",
   "mimetype": "text/x-python",
   "name": "python",
   "nbconvert_exporter": "python",
   "pygments_lexer": "ipython3",
   "version": "3.12.3"
  }
 },
 "nbformat": 4,
 "nbformat_minor": 2
}
