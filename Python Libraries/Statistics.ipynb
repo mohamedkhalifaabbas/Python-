{
 "cells": [
  {
   "cell_type": "code",
   "execution_count": 2,
   "metadata": {},
   "outputs": [],
   "source": [
    "import statistics as st\n",
    "# from statistics import * \n",
    "# from statistics import chain \n"
   ]
  },
  {
   "cell_type": "code",
   "execution_count": 3,
   "metadata": {},
   "outputs": [
    {
     "name": "stdout",
     "output_type": "stream",
     "text": [
      "3.5\n"
     ]
    }
   ],
   "source": [
    "# mean \n",
    "li = [ 1 , 2,  3 , 4 ,5 ,6 ]\n",
    "mean = st.mean(li)\n",
    "print(mean)\n"
   ]
  },
  {
   "cell_type": "code",
   "execution_count": 4,
   "metadata": {},
   "outputs": [
    {
     "name": "stdout",
     "output_type": "stream",
     "text": [
      "3.5\n"
     ]
    }
   ],
   "source": [
    "tuple = ( 1 , 2,  3 , 4 ,5 ,6) \n",
    "mean = st.mean(tuple)\n",
    "print(mean)\n"
   ]
  },
  {
   "cell_type": "code",
   "execution_count": 5,
   "metadata": {},
   "outputs": [
    {
     "name": "stdout",
     "output_type": "stream",
     "text": [
      "3.5\n"
     ]
    }
   ],
   "source": [
    "set = { 1 , 2,  3 , 4 ,5 ,6 }\n",
    "mean = st.mean(set)\n",
    "print(mean)\n"
   ]
  },
  {
   "cell_type": "code",
   "execution_count": 6,
   "metadata": {},
   "outputs": [
    {
     "name": "stdout",
     "output_type": "stream",
     "text": [
      "2.18978102189781\n"
     ]
    }
   ],
   "source": [
    "# harmonic_mean()\n",
    "# n / (1/x1 + 1/x2 ..........+ 1/xn)\n",
    "\n",
    "h_mean = st.harmonic_mean([1 , 2 ,3 ,4  ,5 ])\n",
    "print(h_mean)"
   ]
  },
  {
   "cell_type": "code",
   "execution_count": 7,
   "metadata": {},
   "outputs": [
    {
     "name": "stdout",
     "output_type": "stream",
     "text": [
      "6\n"
     ]
    }
   ],
   "source": [
    "#      median()  الوسيط\n",
    "# [6 , 5, 9 , 7 , 3 , 5 ,8]\n",
    "# 1- sort >> [3 , ,5 , 5 , 6 ,7 ,8 ,9]\n",
    "# 2- median = 6\n",
    "\n",
    "l = [6 , 5, 9 , 7 , 3 , 5 ,8]\n",
    "median = st.median(l)\n",
    "print(median)"
   ]
  },
  {
   "cell_type": "code",
   "execution_count": 9,
   "metadata": {},
   "outputs": [
    {
     "name": "stdout",
     "output_type": "stream",
     "text": [
      "normal median is :  4.5\n",
      "low    median is :  4\n",
      "high   median is :  5\n"
     ]
    }
   ],
   "source": [
    "# median_low() & median_high()\n",
    "l = [2  , 5 , 1 , 4 ,8 , 9 , 3 , 23] # [1 , 2 , 3 , 4 , 5 ,8 , 9 , 23]\n",
    "median = st.median(l)\n",
    "median_low = st.median_low(l)\n",
    "median_high = st.median_high(l)\n",
    "print(\"normal median is : \" , median)\n",
    "print(\"low    median is : \" , median_low)\n",
    "print(\"high   median is : \" , median_high)"
   ]
  },
  {
   "cell_type": "code",
   "execution_count": 10,
   "metadata": {},
   "outputs": [
    {
     "name": "stdout",
     "output_type": "stream",
     "text": [
      "3\n"
     ]
    }
   ],
   "source": [
    "# mode() \n",
    "# most frequncy number\n",
    "l = [ 1 , 6 , 3 ,2 , 5 ,1 ,2 , 3 , 7 ,3]\n",
    "mode = st.mode(l)\n",
    "print(mode)"
   ]
  },
  {
   "cell_type": "code",
   "execution_count": 11,
   "metadata": {},
   "outputs": [
    {
     "name": "stdout",
     "output_type": "stream",
     "text": [
      "29.342579981998856\n"
     ]
    }
   ],
   "source": [
    "# stdev()  stanrad devision  بيتكلم عن مقدار التنوع الداتا\n",
    "l = [3.2 , 6.9 ,  8.1 , 66 , -9.3]\n",
    "stdev = st.stdev(l)\n",
    "print(stdev)\n"
   ]
  },
  {
   "cell_type": "code",
   "execution_count": 12,
   "metadata": {},
   "outputs": [
    {
     "name": "stdout",
     "output_type": "stream",
     "text": [
      "860.987\n"
     ]
    }
   ],
   "source": [
    "# variance()  التباين مقدار الاختلاف\n",
    "l = [3.2 , 6.9 ,  8.1 , 66 , -9.3]\n",
    "variance = st.variance(l)\n",
    "print(variance)"
   ]
  },
  {
   "cell_type": "code",
   "execution_count": null,
   "metadata": {},
   "outputs": [],
   "source": []
  }
 ],
 "metadata": {
  "kernelspec": {
   "display_name": "Python 3",
   "language": "python",
   "name": "python3"
  },
  "language_info": {
   "codemirror_mode": {
    "name": "ipython",
    "version": 3
   },
   "file_extension": ".py",
   "mimetype": "text/x-python",
   "name": "python",
   "nbconvert_exporter": "python",
   "pygments_lexer": "ipython3",
   "version": "3.12.3"
  }
 },
 "nbformat": 4,
 "nbformat_minor": 2
}
